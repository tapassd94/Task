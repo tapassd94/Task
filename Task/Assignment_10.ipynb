{
  "nbformat": 4,
  "nbformat_minor": 0,
  "metadata": {
    "colab": {
      "name": "Assignment-10.ipynb",
      "provenance": [],
      "collapsed_sections": [],
      "authorship_tag": "ABX9TyPi19UPFjpdfszU4hfg/Dro",
      "include_colab_link": true
    },
    "kernelspec": {
      "name": "python3",
      "display_name": "Python 3"
    },
    "language_info": {
      "name": "python"
    }
  },
  "cells": [
    {
      "cell_type": "code",
      "execution_count": 37,
      "metadata": {
        "id": "yFw9wzqfhl1s"
      },
      "outputs": [],
      "source": [
        "import matplotlib.pyplot as plt\n",
        "import pandas as pd\n",
        "import numpy as np\n",
        "from sklearn.neighbors import KNeighborsClassifier, KNeighborsRegressor\n",
        "from sklearn.linear_model import LogisticRegression\n",
        "from mlxtend.plotting import plot_decision_regions \n",
        "from sklearn.model_selection import cross_val_score "
      ]
    },
    {
      "cell_type": "code",
      "source": [
        "Train=pd.read_csv(\"/content/trainKNN.txt\",header=None,names=[\"id\",\"RI\",\"Na\",\"Mg\",\"AI\",\"Si\",\"K\",\"Ca\",\"Ba\",\"Fe\",\"Type of Glass\"])\n",
        "Train.head()"
      ],
      "metadata": {
        "colab": {
          "base_uri": "https://localhost:8080/",
          "height": 206
        },
        "id": "wqPemU3Ihxf4",
        "outputId": "6adbc2e1-9e8f-48ed-dde7-de31cce41a14"
      },
      "execution_count": 38,
      "outputs": [
        {
          "output_type": "execute_result",
          "data": {
            "text/plain": [
              "   id       RI     Na    Mg    AI     Si     K    Ca   Ba   Fe  Type of Glass\n",
              "0   1  1.52101  13.64  4.49  1.10  71.78  0.06  8.75  0.0  0.0              1\n",
              "1   2  1.51761  13.89  3.60  1.36  72.73  0.48  7.83  0.0  0.0              1\n",
              "2   3  1.51618  13.53  3.55  1.54  72.99  0.39  7.78  0.0  0.0              1\n",
              "3   4  1.51766  13.21  3.69  1.29  72.61  0.57  8.22  0.0  0.0              1\n",
              "4   5  1.51742  13.27  3.62  1.24  73.08  0.55  8.07  0.0  0.0              1"
            ],
            "text/html": [
              "\n",
              "  <div id=\"df-516b0591-bcc6-4f60-8970-3a91a06af2a6\">\n",
              "    <div class=\"colab-df-container\">\n",
              "      <div>\n",
              "<style scoped>\n",
              "    .dataframe tbody tr th:only-of-type {\n",
              "        vertical-align: middle;\n",
              "    }\n",
              "\n",
              "    .dataframe tbody tr th {\n",
              "        vertical-align: top;\n",
              "    }\n",
              "\n",
              "    .dataframe thead th {\n",
              "        text-align: right;\n",
              "    }\n",
              "</style>\n",
              "<table border=\"1\" class=\"dataframe\">\n",
              "  <thead>\n",
              "    <tr style=\"text-align: right;\">\n",
              "      <th></th>\n",
              "      <th>id</th>\n",
              "      <th>RI</th>\n",
              "      <th>Na</th>\n",
              "      <th>Mg</th>\n",
              "      <th>AI</th>\n",
              "      <th>Si</th>\n",
              "      <th>K</th>\n",
              "      <th>Ca</th>\n",
              "      <th>Ba</th>\n",
              "      <th>Fe</th>\n",
              "      <th>Type of Glass</th>\n",
              "    </tr>\n",
              "  </thead>\n",
              "  <tbody>\n",
              "    <tr>\n",
              "      <th>0</th>\n",
              "      <td>1</td>\n",
              "      <td>1.52101</td>\n",
              "      <td>13.64</td>\n",
              "      <td>4.49</td>\n",
              "      <td>1.10</td>\n",
              "      <td>71.78</td>\n",
              "      <td>0.06</td>\n",
              "      <td>8.75</td>\n",
              "      <td>0.0</td>\n",
              "      <td>0.0</td>\n",
              "      <td>1</td>\n",
              "    </tr>\n",
              "    <tr>\n",
              "      <th>1</th>\n",
              "      <td>2</td>\n",
              "      <td>1.51761</td>\n",
              "      <td>13.89</td>\n",
              "      <td>3.60</td>\n",
              "      <td>1.36</td>\n",
              "      <td>72.73</td>\n",
              "      <td>0.48</td>\n",
              "      <td>7.83</td>\n",
              "      <td>0.0</td>\n",
              "      <td>0.0</td>\n",
              "      <td>1</td>\n",
              "    </tr>\n",
              "    <tr>\n",
              "      <th>2</th>\n",
              "      <td>3</td>\n",
              "      <td>1.51618</td>\n",
              "      <td>13.53</td>\n",
              "      <td>3.55</td>\n",
              "      <td>1.54</td>\n",
              "      <td>72.99</td>\n",
              "      <td>0.39</td>\n",
              "      <td>7.78</td>\n",
              "      <td>0.0</td>\n",
              "      <td>0.0</td>\n",
              "      <td>1</td>\n",
              "    </tr>\n",
              "    <tr>\n",
              "      <th>3</th>\n",
              "      <td>4</td>\n",
              "      <td>1.51766</td>\n",
              "      <td>13.21</td>\n",
              "      <td>3.69</td>\n",
              "      <td>1.29</td>\n",
              "      <td>72.61</td>\n",
              "      <td>0.57</td>\n",
              "      <td>8.22</td>\n",
              "      <td>0.0</td>\n",
              "      <td>0.0</td>\n",
              "      <td>1</td>\n",
              "    </tr>\n",
              "    <tr>\n",
              "      <th>4</th>\n",
              "      <td>5</td>\n",
              "      <td>1.51742</td>\n",
              "      <td>13.27</td>\n",
              "      <td>3.62</td>\n",
              "      <td>1.24</td>\n",
              "      <td>73.08</td>\n",
              "      <td>0.55</td>\n",
              "      <td>8.07</td>\n",
              "      <td>0.0</td>\n",
              "      <td>0.0</td>\n",
              "      <td>1</td>\n",
              "    </tr>\n",
              "  </tbody>\n",
              "</table>\n",
              "</div>\n",
              "      <button class=\"colab-df-convert\" onclick=\"convertToInteractive('df-516b0591-bcc6-4f60-8970-3a91a06af2a6')\"\n",
              "              title=\"Convert this dataframe to an interactive table.\"\n",
              "              style=\"display:none;\">\n",
              "        \n",
              "  <svg xmlns=\"http://www.w3.org/2000/svg\" height=\"24px\"viewBox=\"0 0 24 24\"\n",
              "       width=\"24px\">\n",
              "    <path d=\"M0 0h24v24H0V0z\" fill=\"none\"/>\n",
              "    <path d=\"M18.56 5.44l.94 2.06.94-2.06 2.06-.94-2.06-.94-.94-2.06-.94 2.06-2.06.94zm-11 1L8.5 8.5l.94-2.06 2.06-.94-2.06-.94L8.5 2.5l-.94 2.06-2.06.94zm10 10l.94 2.06.94-2.06 2.06-.94-2.06-.94-.94-2.06-.94 2.06-2.06.94z\"/><path d=\"M17.41 7.96l-1.37-1.37c-.4-.4-.92-.59-1.43-.59-.52 0-1.04.2-1.43.59L10.3 9.45l-7.72 7.72c-.78.78-.78 2.05 0 2.83L4 21.41c.39.39.9.59 1.41.59.51 0 1.02-.2 1.41-.59l7.78-7.78 2.81-2.81c.8-.78.8-2.07 0-2.86zM5.41 20L4 18.59l7.72-7.72 1.47 1.35L5.41 20z\"/>\n",
              "  </svg>\n",
              "      </button>\n",
              "      \n",
              "  <style>\n",
              "    .colab-df-container {\n",
              "      display:flex;\n",
              "      flex-wrap:wrap;\n",
              "      gap: 12px;\n",
              "    }\n",
              "\n",
              "    .colab-df-convert {\n",
              "      background-color: #E8F0FE;\n",
              "      border: none;\n",
              "      border-radius: 50%;\n",
              "      cursor: pointer;\n",
              "      display: none;\n",
              "      fill: #1967D2;\n",
              "      height: 32px;\n",
              "      padding: 0 0 0 0;\n",
              "      width: 32px;\n",
              "    }\n",
              "\n",
              "    .colab-df-convert:hover {\n",
              "      background-color: #E2EBFA;\n",
              "      box-shadow: 0px 1px 2px rgba(60, 64, 67, 0.3), 0px 1px 3px 1px rgba(60, 64, 67, 0.15);\n",
              "      fill: #174EA6;\n",
              "    }\n",
              "\n",
              "    [theme=dark] .colab-df-convert {\n",
              "      background-color: #3B4455;\n",
              "      fill: #D2E3FC;\n",
              "    }\n",
              "\n",
              "    [theme=dark] .colab-df-convert:hover {\n",
              "      background-color: #434B5C;\n",
              "      box-shadow: 0px 1px 3px 1px rgba(0, 0, 0, 0.15);\n",
              "      filter: drop-shadow(0px 1px 2px rgba(0, 0, 0, 0.3));\n",
              "      fill: #FFFFFF;\n",
              "    }\n",
              "  </style>\n",
              "\n",
              "      <script>\n",
              "        const buttonEl =\n",
              "          document.querySelector('#df-516b0591-bcc6-4f60-8970-3a91a06af2a6 button.colab-df-convert');\n",
              "        buttonEl.style.display =\n",
              "          google.colab.kernel.accessAllowed ? 'block' : 'none';\n",
              "\n",
              "        async function convertToInteractive(key) {\n",
              "          const element = document.querySelector('#df-516b0591-bcc6-4f60-8970-3a91a06af2a6');\n",
              "          const dataTable =\n",
              "            await google.colab.kernel.invokeFunction('convertToInteractive',\n",
              "                                                     [key], {});\n",
              "          if (!dataTable) return;\n",
              "\n",
              "          const docLinkHtml = 'Like what you see? Visit the ' +\n",
              "            '<a target=\"_blank\" href=https://colab.research.google.com/notebooks/data_table.ipynb>data table notebook</a>'\n",
              "            + ' to learn more about interactive tables.';\n",
              "          element.innerHTML = '';\n",
              "          dataTable['output_type'] = 'display_data';\n",
              "          await google.colab.output.renderOutput(dataTable, element);\n",
              "          const docLink = document.createElement('div');\n",
              "          docLink.innerHTML = docLinkHtml;\n",
              "          element.appendChild(docLink);\n",
              "        }\n",
              "      </script>\n",
              "    </div>\n",
              "  </div>\n",
              "  "
            ]
          },
          "metadata": {},
          "execution_count": 38
        }
      ]
    },
    {
      "cell_type": "code",
      "source": [
        "Test=pd.read_csv(\"/content/testKNN.txt\",header=None,names=[\"id\",\"RI\",\"Na\",\"Mg\",\"AI\",\"Si\",\"K\",\"Ca\",\"Ba\",\"Fe\",\"Type of Glass\"])\n",
        "Test.head()"
      ],
      "metadata": {
        "colab": {
          "base_uri": "https://localhost:8080/",
          "height": 206
        },
        "id": "vEJN4K6BieQI",
        "outputId": "01c6a394-b539-4817-aced-4cb6c9af671e"
      },
      "execution_count": 39,
      "outputs": [
        {
          "output_type": "execute_result",
          "data": {
            "text/plain": [
              "    id       RI     Na    Mg    AI     Si     K     Ca   Ba    Fe  \\\n",
              "0   68  1.52152  13.05  3.65  0.87  72.32  0.19   9.85  0.0  0.17   \n",
              "1   69  1.52152  13.12  3.58  0.90  72.20  0.23   9.82  0.0  0.16   \n",
              "2   70  1.52300  13.31  3.58  0.82  71.99  0.12  10.17  0.0  0.03   \n",
              "3  144  1.51709  13.00  3.47  1.79  72.72  0.66   8.18  0.0  0.00   \n",
              "4  145  1.51660  12.99  3.18  1.23  72.97  0.58   8.81  0.0  0.24   \n",
              "\n",
              "   Type of Glass  \n",
              "0              1  \n",
              "1              1  \n",
              "2              1  \n",
              "3              2  \n",
              "4              2  "
            ],
            "text/html": [
              "\n",
              "  <div id=\"df-4e3da503-d033-463b-b228-4f0395320d66\">\n",
              "    <div class=\"colab-df-container\">\n",
              "      <div>\n",
              "<style scoped>\n",
              "    .dataframe tbody tr th:only-of-type {\n",
              "        vertical-align: middle;\n",
              "    }\n",
              "\n",
              "    .dataframe tbody tr th {\n",
              "        vertical-align: top;\n",
              "    }\n",
              "\n",
              "    .dataframe thead th {\n",
              "        text-align: right;\n",
              "    }\n",
              "</style>\n",
              "<table border=\"1\" class=\"dataframe\">\n",
              "  <thead>\n",
              "    <tr style=\"text-align: right;\">\n",
              "      <th></th>\n",
              "      <th>id</th>\n",
              "      <th>RI</th>\n",
              "      <th>Na</th>\n",
              "      <th>Mg</th>\n",
              "      <th>AI</th>\n",
              "      <th>Si</th>\n",
              "      <th>K</th>\n",
              "      <th>Ca</th>\n",
              "      <th>Ba</th>\n",
              "      <th>Fe</th>\n",
              "      <th>Type of Glass</th>\n",
              "    </tr>\n",
              "  </thead>\n",
              "  <tbody>\n",
              "    <tr>\n",
              "      <th>0</th>\n",
              "      <td>68</td>\n",
              "      <td>1.52152</td>\n",
              "      <td>13.05</td>\n",
              "      <td>3.65</td>\n",
              "      <td>0.87</td>\n",
              "      <td>72.32</td>\n",
              "      <td>0.19</td>\n",
              "      <td>9.85</td>\n",
              "      <td>0.0</td>\n",
              "      <td>0.17</td>\n",
              "      <td>1</td>\n",
              "    </tr>\n",
              "    <tr>\n",
              "      <th>1</th>\n",
              "      <td>69</td>\n",
              "      <td>1.52152</td>\n",
              "      <td>13.12</td>\n",
              "      <td>3.58</td>\n",
              "      <td>0.90</td>\n",
              "      <td>72.20</td>\n",
              "      <td>0.23</td>\n",
              "      <td>9.82</td>\n",
              "      <td>0.0</td>\n",
              "      <td>0.16</td>\n",
              "      <td>1</td>\n",
              "    </tr>\n",
              "    <tr>\n",
              "      <th>2</th>\n",
              "      <td>70</td>\n",
              "      <td>1.52300</td>\n",
              "      <td>13.31</td>\n",
              "      <td>3.58</td>\n",
              "      <td>0.82</td>\n",
              "      <td>71.99</td>\n",
              "      <td>0.12</td>\n",
              "      <td>10.17</td>\n",
              "      <td>0.0</td>\n",
              "      <td>0.03</td>\n",
              "      <td>1</td>\n",
              "    </tr>\n",
              "    <tr>\n",
              "      <th>3</th>\n",
              "      <td>144</td>\n",
              "      <td>1.51709</td>\n",
              "      <td>13.00</td>\n",
              "      <td>3.47</td>\n",
              "      <td>1.79</td>\n",
              "      <td>72.72</td>\n",
              "      <td>0.66</td>\n",
              "      <td>8.18</td>\n",
              "      <td>0.0</td>\n",
              "      <td>0.00</td>\n",
              "      <td>2</td>\n",
              "    </tr>\n",
              "    <tr>\n",
              "      <th>4</th>\n",
              "      <td>145</td>\n",
              "      <td>1.51660</td>\n",
              "      <td>12.99</td>\n",
              "      <td>3.18</td>\n",
              "      <td>1.23</td>\n",
              "      <td>72.97</td>\n",
              "      <td>0.58</td>\n",
              "      <td>8.81</td>\n",
              "      <td>0.0</td>\n",
              "      <td>0.24</td>\n",
              "      <td>2</td>\n",
              "    </tr>\n",
              "  </tbody>\n",
              "</table>\n",
              "</div>\n",
              "      <button class=\"colab-df-convert\" onclick=\"convertToInteractive('df-4e3da503-d033-463b-b228-4f0395320d66')\"\n",
              "              title=\"Convert this dataframe to an interactive table.\"\n",
              "              style=\"display:none;\">\n",
              "        \n",
              "  <svg xmlns=\"http://www.w3.org/2000/svg\" height=\"24px\"viewBox=\"0 0 24 24\"\n",
              "       width=\"24px\">\n",
              "    <path d=\"M0 0h24v24H0V0z\" fill=\"none\"/>\n",
              "    <path d=\"M18.56 5.44l.94 2.06.94-2.06 2.06-.94-2.06-.94-.94-2.06-.94 2.06-2.06.94zm-11 1L8.5 8.5l.94-2.06 2.06-.94-2.06-.94L8.5 2.5l-.94 2.06-2.06.94zm10 10l.94 2.06.94-2.06 2.06-.94-2.06-.94-.94-2.06-.94 2.06-2.06.94z\"/><path d=\"M17.41 7.96l-1.37-1.37c-.4-.4-.92-.59-1.43-.59-.52 0-1.04.2-1.43.59L10.3 9.45l-7.72 7.72c-.78.78-.78 2.05 0 2.83L4 21.41c.39.39.9.59 1.41.59.51 0 1.02-.2 1.41-.59l7.78-7.78 2.81-2.81c.8-.78.8-2.07 0-2.86zM5.41 20L4 18.59l7.72-7.72 1.47 1.35L5.41 20z\"/>\n",
              "  </svg>\n",
              "      </button>\n",
              "      \n",
              "  <style>\n",
              "    .colab-df-container {\n",
              "      display:flex;\n",
              "      flex-wrap:wrap;\n",
              "      gap: 12px;\n",
              "    }\n",
              "\n",
              "    .colab-df-convert {\n",
              "      background-color: #E8F0FE;\n",
              "      border: none;\n",
              "      border-radius: 50%;\n",
              "      cursor: pointer;\n",
              "      display: none;\n",
              "      fill: #1967D2;\n",
              "      height: 32px;\n",
              "      padding: 0 0 0 0;\n",
              "      width: 32px;\n",
              "    }\n",
              "\n",
              "    .colab-df-convert:hover {\n",
              "      background-color: #E2EBFA;\n",
              "      box-shadow: 0px 1px 2px rgba(60, 64, 67, 0.3), 0px 1px 3px 1px rgba(60, 64, 67, 0.15);\n",
              "      fill: #174EA6;\n",
              "    }\n",
              "\n",
              "    [theme=dark] .colab-df-convert {\n",
              "      background-color: #3B4455;\n",
              "      fill: #D2E3FC;\n",
              "    }\n",
              "\n",
              "    [theme=dark] .colab-df-convert:hover {\n",
              "      background-color: #434B5C;\n",
              "      box-shadow: 0px 1px 3px 1px rgba(0, 0, 0, 0.15);\n",
              "      filter: drop-shadow(0px 1px 2px rgba(0, 0, 0, 0.3));\n",
              "      fill: #FFFFFF;\n",
              "    }\n",
              "  </style>\n",
              "\n",
              "      <script>\n",
              "        const buttonEl =\n",
              "          document.querySelector('#df-4e3da503-d033-463b-b228-4f0395320d66 button.colab-df-convert');\n",
              "        buttonEl.style.display =\n",
              "          google.colab.kernel.accessAllowed ? 'block' : 'none';\n",
              "\n",
              "        async function convertToInteractive(key) {\n",
              "          const element = document.querySelector('#df-4e3da503-d033-463b-b228-4f0395320d66');\n",
              "          const dataTable =\n",
              "            await google.colab.kernel.invokeFunction('convertToInteractive',\n",
              "                                                     [key], {});\n",
              "          if (!dataTable) return;\n",
              "\n",
              "          const docLinkHtml = 'Like what you see? Visit the ' +\n",
              "            '<a target=\"_blank\" href=https://colab.research.google.com/notebooks/data_table.ipynb>data table notebook</a>'\n",
              "            + ' to learn more about interactive tables.';\n",
              "          element.innerHTML = '';\n",
              "          dataTable['output_type'] = 'display_data';\n",
              "          await google.colab.output.renderOutput(dataTable, element);\n",
              "          const docLink = document.createElement('div');\n",
              "          docLink.innerHTML = docLinkHtml;\n",
              "          element.appendChild(docLink);\n",
              "        }\n",
              "      </script>\n",
              "    </div>\n",
              "  </div>\n",
              "  "
            ]
          },
          "metadata": {},
          "execution_count": 39
        }
      ]
    },
    {
      "cell_type": "code",
      "source": [
        "print(Train.shape)\n",
        "print(Test.shape)"
      ],
      "metadata": {
        "colab": {
          "base_uri": "https://localhost:8080/"
        },
        "id": "d_N23JZMjQeW",
        "outputId": "c6c087e8-5f0d-4795-c6b5-2fddfc2ae908"
      },
      "execution_count": 40,
      "outputs": [
        {
          "output_type": "stream",
          "name": "stdout",
          "text": [
            "(196, 11)\n",
            "(18, 11)\n"
          ]
        }
      ]
    },
    {
      "cell_type": "code",
      "source": [
        "Train.isnull().sum()"
      ],
      "metadata": {
        "colab": {
          "base_uri": "https://localhost:8080/"
        },
        "id": "kXuUOFz4jnNt",
        "outputId": "860f6a01-68d8-4615-a381-2421ef646e79"
      },
      "execution_count": 41,
      "outputs": [
        {
          "output_type": "execute_result",
          "data": {
            "text/plain": [
              "id               0\n",
              "RI               0\n",
              "Na               0\n",
              "Mg               0\n",
              "AI               0\n",
              "Si               0\n",
              "K                0\n",
              "Ca               0\n",
              "Ba               0\n",
              "Fe               0\n",
              "Type of Glass    0\n",
              "dtype: int64"
            ]
          },
          "metadata": {},
          "execution_count": 41
        }
      ]
    },
    {
      "cell_type": "code",
      "source": [
        "Test.isnull().sum()"
      ],
      "metadata": {
        "colab": {
          "base_uri": "https://localhost:8080/"
        },
        "id": "0-_oxKZNjsik",
        "outputId": "e51c6b43-c246-4642-b40c-9c2952ec8748"
      },
      "execution_count": 42,
      "outputs": [
        {
          "output_type": "execute_result",
          "data": {
            "text/plain": [
              "id               0\n",
              "RI               0\n",
              "Na               0\n",
              "Mg               0\n",
              "AI               0\n",
              "Si               0\n",
              "K                0\n",
              "Ca               0\n",
              "Ba               0\n",
              "Fe               0\n",
              "Type of Glass    0\n",
              "dtype: int64"
            ]
          },
          "metadata": {},
          "execution_count": 42
        }
      ]
    },
    {
      "cell_type": "markdown",
      "source": [
        "# EDA"
      ],
      "metadata": {
        "id": "3ZI84O06kFaD"
      }
    },
    {
      "cell_type": "code",
      "source": [
        "plt.figure(1, figsize=(5,5))\n",
        "plt.title(\"Type percentage\")\n",
        "Train['Type of Glass'].value_counts().plot.pie(autopct=\"%0.2f%%\")"
      ],
      "metadata": {
        "colab": {
          "base_uri": "https://localhost:8080/",
          "height": 336
        },
        "id": "m9N47b5-wKZM",
        "outputId": "7a722a67-1d71-4336-9c7c-4793b6af49c8"
      },
      "execution_count": 43,
      "outputs": [
        {
          "output_type": "execute_result",
          "data": {
            "text/plain": [
              "<matplotlib.axes._subplots.AxesSubplot at 0x7fec5a347490>"
            ]
          },
          "metadata": {},
          "execution_count": 43
        },
        {
          "output_type": "display_data",
          "data": {
            "text/plain": [
              "<Figure size 360x360 with 1 Axes>"
            ],
            "image/png": "[encoded data removed]"
          },
          "metadata": {}
        }
      ]
    },
    {
      "cell_type": "markdown",
      "source": [
        "# **Train dataset euclidean and manhattan.**"
      ],
      "metadata": {
        "id": "cEZPVRuK1g-7"
      }
    },
    {
      "cell_type": "code",
      "source": [
        "x_train = Train.drop([\"Type of Glass\"], axis=1)\n",
        "y_train = Train[\"Type of Glass\"]"
      ],
      "metadata": {
        "id": "7Twe5mQf34Fj"
      },
      "execution_count": 44,
      "outputs": []
    },
    {
      "cell_type": "code",
      "source": [
        "from sklearn.preprocessing import StandardScaler #scalling\n",
        "scaler = StandardScaler()\n",
        "x_train = scaler.fit_transform(x_train)"
      ],
      "metadata": {
        "id": "hnjyxW2r23o1"
      },
      "execution_count": 45,
      "outputs": []
    },
    {
      "cell_type": "code",
      "source": [
        "for i in [1,2,3,4,5,6,7,8,9,10]:\n",
        "  knn = KNeighborsClassifier(i) \n",
        "  knn.fit(x_train,y_train) \n",
        "  print(\"K value  : \" , i,\"train_score;\",knn.score(x_train,y_train), \" score : \", np.mean(cross_val_score(knn, x_train, y_train, cv=10)))"
      ],
      "metadata": {
        "colab": {
          "base_uri": "https://localhost:8080/"
        },
        "id": "vaXtPLmN4bJY",
        "outputId": "2ee634f3-2659-4ebe-edef-fb31f44e4a4b"
      },
      "execution_count": 46,
      "outputs": [
        {
          "output_type": "stream",
          "name": "stderr",
          "text": [
            "/usr/local/lib/python3.7/dist-packages/sklearn/model_selection/_split.py:680: UserWarning:\n",
            "\n",
            "The least populated class in y has only 6 members, which is less than n_splits=10.\n",
            "\n",
            "/usr/local/lib/python3.7/dist-packages/sklearn/model_selection/_split.py:680: UserWarning:\n",
            "\n",
            "The least populated class in y has only 6 members, which is less than n_splits=10.\n",
            "\n",
            "/usr/local/lib/python3.7/dist-packages/sklearn/model_selection/_split.py:680: UserWarning:\n",
            "\n",
            "The least populated class in y has only 6 members, which is less than n_splits=10.\n",
            "\n",
            "/usr/local/lib/python3.7/dist-packages/sklearn/model_selection/_split.py:680: UserWarning:\n",
            "\n",
            "The least populated class in y has only 6 members, which is less than n_splits=10.\n",
            "\n",
            "/usr/local/lib/python3.7/dist-packages/sklearn/model_selection/_split.py:680: UserWarning:\n",
            "\n",
            "The least populated class in y has only 6 members, which is less than n_splits=10.\n",
            "\n"
          ]
        },
        {
          "output_type": "stream",
          "name": "stdout",
          "text": [
            "K value  :  1 train_score; 1.0  score :  0.8363157894736842\n",
            "K value  :  2 train_score; 0.9132653061224489  score :  0.8381578947368421\n",
            "K value  :  3 train_score; 0.9489795918367347  score :  0.8728947368421052\n",
            "K value  :  4 train_score; 0.9030612244897959  score :  0.8476315789473684\n",
            "K value  :  5 train_score; 0.923469387755102  score :  0.8878947368421052\n"
          ]
        },
        {
          "output_type": "stream",
          "name": "stderr",
          "text": [
            "/usr/local/lib/python3.7/dist-packages/sklearn/model_selection/_split.py:680: UserWarning:\n",
            "\n",
            "The least populated class in y has only 6 members, which is less than n_splits=10.\n",
            "\n",
            "/usr/local/lib/python3.7/dist-packages/sklearn/model_selection/_split.py:680: UserWarning:\n",
            "\n",
            "The least populated class in y has only 6 members, which is less than n_splits=10.\n",
            "\n",
            "/usr/local/lib/python3.7/dist-packages/sklearn/model_selection/_split.py:680: UserWarning:\n",
            "\n",
            "The least populated class in y has only 6 members, which is less than n_splits=10.\n",
            "\n",
            "/usr/local/lib/python3.7/dist-packages/sklearn/model_selection/_split.py:680: UserWarning:\n",
            "\n",
            "The least populated class in y has only 6 members, which is less than n_splits=10.\n",
            "\n",
            "/usr/local/lib/python3.7/dist-packages/sklearn/model_selection/_split.py:680: UserWarning:\n",
            "\n",
            "The least populated class in y has only 6 members, which is less than n_splits=10.\n",
            "\n"
          ]
        },
        {
          "output_type": "stream",
          "name": "stdout",
          "text": [
            "K value  :  6 train_score; 0.9081632653061225  score :  0.8428947368421053\n",
            "K value  :  7 train_score; 0.9030612244897959  score :  0.8576315789473684\n",
            "K value  :  8 train_score; 0.9081632653061225  score :  0.8071052631578948\n",
            "K value  :  9 train_score; 0.8928571428571429  score :  0.8121052631578948\n",
            "K value  :  10 train_score; 0.8622448979591837  score :  0.8021052631578949\n"
          ]
        }
      ]
    },
    {
      "cell_type": "code",
      "source": [
        "euclid_model = KNeighborsClassifier(n_neighbors=5, metric = 'euclidean')\n",
        "euclid_model.fit(x_train,y_train)"
      ],
      "metadata": {
        "colab": {
          "base_uri": "https://localhost:8080/"
        },
        "id": "FEyWVKRS4xBi",
        "outputId": "0333e6d2-7387-4d04-f25c-1337588b4366"
      },
      "execution_count": 47,
      "outputs": [
        {
          "output_type": "execute_result",
          "data": {
            "text/plain": [
              "KNeighborsClassifier(metric='euclidean')"
            ]
          },
          "metadata": {},
          "execution_count": 47
        }
      ]
    },
    {
      "cell_type": "code",
      "source": [
        "manhattan_model = KNeighborsClassifier(n_neighbors=5, metric='manhattan')\n",
        "manhattan_model.fit(x_train, y_train)"
      ],
      "metadata": {
        "colab": {
          "base_uri": "https://localhost:8080/"
        },
        "id": "ni17ZDDU6JZI",
        "outputId": "0c1306bf-96c4-4e53-d612-d4b16eb149ed"
      },
      "execution_count": 48,
      "outputs": [
        {
          "output_type": "execute_result",
          "data": {
            "text/plain": [
              "KNeighborsClassifier(metric='manhattan')"
            ]
          },
          "metadata": {},
          "execution_count": 48
        }
      ]
    },
    {
      "cell_type": "code",
      "source": [
        "from sklearn.metrics import accuracy_score\n",
        "accu = accuracy_score(y_train,manhattan_model.predict(x_train))\n",
        "accu"
      ],
      "metadata": {
        "colab": {
          "base_uri": "https://localhost:8080/"
        },
        "id": "cflv0LFt4h6p",
        "outputId": "2cc5f6c0-a4e9-48cc-f1b4-c819b30c8b85"
      },
      "execution_count": 49,
      "outputs": [
        {
          "output_type": "execute_result",
          "data": {
            "text/plain": [
              "0.9489795918367347"
            ]
          },
          "metadata": {},
          "execution_count": 49
        }
      ]
    },
    {
      "cell_type": "code",
      "source": [
        "from sklearn.metrics import accuracy_score\n",
        "accu = accuracy_score(y_train,euclid_model.predict(x_train))\n",
        "accu"
      ],
      "metadata": {
        "colab": {
          "base_uri": "https://localhost:8080/"
        },
        "id": "c1b88aIP4lHK",
        "outputId": "5c4dcc32-fe2d-46b8-9d53-87f35975d729"
      },
      "execution_count": 50,
      "outputs": [
        {
          "output_type": "execute_result",
          "data": {
            "text/plain": [
              "0.923469387755102"
            ]
          },
          "metadata": {},
          "execution_count": 50
        }
      ]
    },
    {
      "cell_type": "markdown",
      "source": [
        "# **Test dataset euclidean and manhattan.**"
      ],
      "metadata": {
        "id": "256Wzkbq7x14"
      }
    },
    {
      "cell_type": "code",
      "source": [
        "x_test = Test.drop([\"Type of Glass\"], axis=1)\n",
        "y_test = Test[\"Type of Glass\"]"
      ],
      "metadata": {
        "id": "Hj9UUiUG7swX"
      },
      "execution_count": 51,
      "outputs": []
    },
    {
      "cell_type": "code",
      "source": [
        "from sklearn.preprocessing import StandardScaler #scalling\n",
        "scaler = StandardScaler()\n",
        "x_train = scaler.fit_transform(x_train)"
      ],
      "metadata": {
        "id": "qw0DKI-27_lS"
      },
      "execution_count": 52,
      "outputs": []
    },
    {
      "cell_type": "code",
      "source": [
        "euclid_model = KNeighborsClassifier(n_neighbors=5, metric = 'euclidean')\n",
        "euclid_model.fit(x_test,y_test)"
      ],
      "metadata": {
        "colab": {
          "base_uri": "https://localhost:8080/"
        },
        "id": "uHbZuuLZ8FAo",
        "outputId": "c48cf7e8-31c4-48a1-d6f3-afa90b6b3f97"
      },
      "execution_count": 53,
      "outputs": [
        {
          "output_type": "execute_result",
          "data": {
            "text/plain": [
              "KNeighborsClassifier(metric='euclidean')"
            ]
          },
          "metadata": {},
          "execution_count": 53
        }
      ]
    },
    {
      "cell_type": "code",
      "source": [
        "manhattan_model = KNeighborsClassifier(n_neighbors=5, metric='manhattan')\n",
        "manhattan_model.fit(x_test, y_test)"
      ],
      "metadata": {
        "colab": {
          "base_uri": "https://localhost:8080/"
        },
        "id": "yDoujAhp8PFu",
        "outputId": "eb881c90-292d-476e-ce5e-69bc716bf94d"
      },
      "execution_count": 54,
      "outputs": [
        {
          "output_type": "execute_result",
          "data": {
            "text/plain": [
              "KNeighborsClassifier(metric='manhattan')"
            ]
          },
          "metadata": {},
          "execution_count": 54
        }
      ]
    },
    {
      "cell_type": "code",
      "source": [
        "from sklearn.metrics import accuracy_score\n",
        "accu = accuracy_score(y_test,manhattan_model.predict(x_test))\n",
        "accu"
      ],
      "metadata": {
        "colab": {
          "base_uri": "https://localhost:8080/"
        },
        "id": "c7Di_KUe4Wgy",
        "outputId": "c7e842f5-f3d9-4601-be7b-605b14b1aa1e"
      },
      "execution_count": 55,
      "outputs": [
        {
          "output_type": "execute_result",
          "data": {
            "text/plain": [
              "1.0"
            ]
          },
          "metadata": {},
          "execution_count": 55
        }
      ]
    },
    {
      "cell_type": "code",
      "source": [
        "from sklearn.metrics import accuracy_score\n",
        "accu = accuracy_score(y_test,euclid_model.predict(x_test))\n",
        "accu"
      ],
      "metadata": {
        "colab": {
          "base_uri": "https://localhost:8080/"
        },
        "id": "m-DPNUaB4ZWS",
        "outputId": "e2c91343-0de7-4717-c1d7-ab9bf608a1d5"
      },
      "execution_count": 56,
      "outputs": [
        {
          "output_type": "execute_result",
          "data": {
            "text/plain": [
              "1.0"
            ]
          },
          "metadata": {},
          "execution_count": 56
        }
      ]
    }
  ]
}
